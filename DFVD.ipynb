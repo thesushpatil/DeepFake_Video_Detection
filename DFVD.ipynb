{
  "nbformat": 4,
  "nbformat_minor": 0,
  "metadata": {
    "colab": {
      "provenance": [],
      "gpuType": "T4",
      "authorship_tag": "ABX9TyOjNHRKtN6U10vlD2ipvCYn",
      "include_colab_link": true
    },
    "kernelspec": {
      "name": "python3",
      "display_name": "Python 3"
    },
    "language_info": {
      "name": "python"
    },
    "accelerator": "GPU"
  },
  "cells": [
    {
      "cell_type": "markdown",
      "metadata": {
        "id": "view-in-github",
        "colab_type": "text"
      },
      "source": [
        "<a href=\"https://colab.research.google.com/github/thesushpatil/DeepFake_Video_Detection/blob/master/DFVD.ipynb\" target=\"_parent\"><img src=\"https://colab.research.google.com/assets/colab-badge.svg\" alt=\"Open In Colab\"/></a>"
      ]
    },
    {
      "cell_type": "code",
      "execution_count": 1,
      "metadata": {
        "colab": {
          "base_uri": "https://localhost:8080/"
        },
        "id": "l2XOeUs-hOK7",
        "outputId": "fbcca027-1ebc-425b-c8f1-671d4fc9c2ae"
      },
      "outputs": [
        {
          "output_type": "stream",
          "name": "stdout",
          "text": [
            "All libraries installed\n"
          ]
        }
      ],
      "source": [
        "# @title Step 1: Setup and Imports\n",
        "import tensorflow as tf\n",
        "from tensorflow import keras\n",
        "from tensorflow.keras import layers\n",
        "from tensorflow.keras.models import Sequential\n",
        "from tensorflow.keras.applications import EfficientNetB0\n",
        "from tensorflow.keras.applications.efficientnet import preprocess_input\n",
        "import cv2\n",
        "import numpy as np\n",
        "import os\n",
        "import shutil\n",
        "from sklearn.model_selection import train_test_split\n",
        "import matplotlib.pyplot as plt\n",
        "from google.colab import drive\n",
        "# Attempt to install compatible versions of core libraries\n",
        "!pip install -q numpy==1.26.4 mediapipe==0.10.13 # Let pip handle tensorflow and protobuf versions\n",
        "from tqdm import tqdm\n",
        "import mediapipe as mp\n",
        "print(\"All libraries installed\")"
      ]
    },
    {
      "cell_type": "code",
      "source": [
        "# @title Step 2: Configuration and Mounting Drive\n",
        "drive.mount('/content/drive')\n",
        "\n",
        "class Config:\n",
        "    # --- Drive Paths (Your permanent storage) ---\n",
        "    GDRIVE_PROJECT_PATH = \"/content/drive/MyDrive/Deepfake_Project/\"\n",
        "    # ❗ This should be the path to your /FF++/ folder (containing 'real' and 'fake' subfolders)\n",
        "    GDRIVE_DATASET_PATH = '/content/drive/MyDrive/Datasets/forensics++/FF++/'\n",
        "\n",
        "    # --- Local Colab Paths (Fast temporary storage) ---\n",
        "    LOCAL_FRAME_PATH = '/content/frames/'\n",
        "\n",
        "    # --- Data & Model Parameters ---\n",
        "    MAX_VIDEOS_PER_CLASS = 150 # Number of videos to process per class\n",
        "    FRAMES_PER_VIDEO = 20      # Number of frames to extract per video\n",
        "    IMAGE_SIZE = (224, 224)\n",
        "    BATCH_SIZE = 32\n",
        "\n",
        "    # --- Training Parameters ---\n",
        "    EPOCHS_STAGE_1 = 10 # Epochs for initial training (frozen base)\n",
        "    EPOCHS_STAGE_2 = 5  # Epochs for fine-tuning\n",
        "\n",
        "# Create all needed directories\n",
        "os.makedirs(os.path.join(Config.LOCAL_FRAME_PATH, 'real'), exist_ok=True)\n",
        "os.makedirs(os.path.join(Config.LOCAL_FRAME_PATH, 'fake'), exist_ok=True)\n",
        "os.makedirs(Config.GDRIVE_PROJECT_PATH, exist_ok=True)\n",
        "\n",
        "print(\"Configuration set and directories created.\")"
      ],
      "metadata": {
        "colab": {
          "base_uri": "https://localhost:8080/"
        },
        "id": "SGhrpkzOiYbJ",
        "outputId": "b58dfe68-89f4-4d80-8f75-134634c0e8e9"
      },
      "execution_count": 2,
      "outputs": [
        {
          "output_type": "stream",
          "name": "stdout",
          "text": [
            "Drive already mounted at /content/drive; to attempt to forcibly remount, call drive.mount(\"/content/drive\", force_remount=True).\n",
            "Configuration set and directories created.\n"
          ]
        }
      ]
    },
    {
      "cell_type": "code",
      "source": [
        "# @title Step 3: Extract, Detect, and Crop ⚡\n",
        "# This cell reads videos from your Drive, but saves the\n",
        "# final cropped faces to Colab's fast local disk.\n",
        "\n",
        "real_video_folder = os.path.join(Config.GDRIVE_DATASET_PATH, 'real/')\n",
        "fake_video_folder = os.path.join(Config.GDRIVE_DATASET_PATH, 'fake/')\n",
        "local_real_out = os.path.join(Config.LOCAL_FRAME_PATH, 'real/')\n",
        "local_fake_out = os.path.join(Config.LOCAL_FRAME_PATH, 'fake/')\n",
        "\n",
        "# Initialize MediaPipe Face Detection\n",
        "face_detection = mp.solutions.face_detection.FaceDetection(min_detection_confidence=0.5)\n",
        "\n",
        "def process_video(video_path, output_folder, max_frames):\n",
        "    \"\"\"\n",
        "    Extracts frames, detects face, crops face, and saves to local disk.\n",
        "    \"\"\"\n",
        "    cap = cv2.VideoCapture(video_path)\n",
        "    if not cap.isOpened(): return\n",
        "\n",
        "    total_frames = int(cap.get(cv2.CAP_PROP_FRAME_COUNT))\n",
        "    if total_frames < max_frames: return\n",
        "\n",
        "    frame_indices = np.linspace(0, total_frames - 1, max_frames, dtype=int)\n",
        "    video_filename = os.path.splitext(os.path.basename(video_path))[0]\n",
        "\n",
        "    for i, frame_index in enumerate(frame_indices):\n",
        "        cap.set(cv2.CAP_PROP_POS_FRAMES, frame_index)\n",
        "        ret, frame = cap.read()\n",
        "        if not ret: continue\n",
        "\n",
        "        # Detect face with MediaPipe\n",
        "        image_rgb = cv2.cvtColor(frame, cv2.COLOR_BGR2RGB)\n",
        "        results = face_detection.process(image_rgb)\n",
        "\n",
        "        if results.detections:\n",
        "            detection = results.detections[0]\n",
        "            box = detection.location_data.relative_bounding_box\n",
        "            h, w, _ = frame.shape\n",
        "            x, y, W, H = int(box.xmin*w), int(box.ymin*h), int(box.width*w), int(box.height*h)\n",
        "\n",
        "            # Crop and save\n",
        "            cropped_face = frame[max(0, y):y+H, max(0, x):x+W]\n",
        "            if cropped_face.size > 0:\n",
        "                frame_filename = f\"{video_filename}_frame_{i}.jpg\"\n",
        "                cv2.imwrite(os.path.join(output_folder, frame_filename), cropped_face)\n",
        "    cap.release()\n",
        "\n",
        "# --- Process Real Videos ---\n",
        "print(\"Processing REAL videos...\")\n",
        "real_videos = [os.path.join(real_video_folder, f) for f in os.listdir(real_video_folder)][:Config.MAX_VIDEOS_PER_CLASS]\n",
        "for video_file in tqdm(real_videos, desc=\"Real Videos\"):\n",
        "    process_video(video_file, local_real_out, Config.FRAMES_PER_VIDEO)\n",
        "\n",
        "# --- Process Fake Videos ---\n",
        "print(\"Processing FAKE videos...\")\n",
        "fake_videos = [os.path.join(fake_video_folder, f) for f in os.listdir(fake_video_folder)][:Config.MAX_VIDEOS_PER_CLASS]\n",
        "for video_file in tqdm(fake_videos, desc=\"Fake Videos\"):\n",
        "    process_video(video_file, local_fake_out, Config.FRAMES_PER_VIDEO)\n",
        "\n",
        "print(\"Frame processing complete. Cropped faces are saved locally.\")"
      ],
      "metadata": {
        "colab": {
          "base_uri": "https://localhost:8080/"
        },
        "id": "MhmL5wkviq8T",
        "outputId": "980b1745-c6ff-4cdc-aa16-bb2b15c71fe8"
      },
      "execution_count": null,
      "outputs": [
        {
          "output_type": "stream",
          "name": "stdout",
          "text": [
            "Processing REAL videos...\n"
          ]
        },
        {
          "output_type": "stream",
          "name": "stderr",
          "text": [
            "\rReal Videos:   0%|          | 0/150 [00:00<?, ?it/s]/usr/local/lib/python3.12/dist-packages/google/protobuf/symbol_database.py:55: UserWarning: SymbolDatabase.GetPrototype() is deprecated. Please use message_factory.GetMessageClass() instead. SymbolDatabase.GetPrototype() will be removed soon.\n",
            "  warnings.warn('SymbolDatabase.GetPrototype() is deprecated. Please '\n",
            "Real Videos:  76%|███████▌  | 114/150 [28:33<08:11, 13.65s/it]/usr/local/lib/python3.12/dist-packages/google/protobuf/symbol_database.py:55: UserWarning: SymbolDatabase.GetPrototype() is deprecated. Please use message_factory.GetMessageClass() instead. SymbolDatabase.GetPrototype() will be removed soon.\n",
            "  warnings.warn('SymbolDatabase.GetPrototype() is deprecated. Please '\n",
            "Real Videos:  77%|███████▋  | 115/150 [28:47<08:01, 13.75s/it]/usr/local/lib/python3.12/dist-packages/google/protobuf/symbol_database.py:55: UserWarning: SymbolDatabase.GetPrototype() is deprecated. Please use message_factory.GetMessageClass() instead. SymbolDatabase.GetPrototype() will be removed soon.\n",
            "  warnings.warn('SymbolDatabase.GetPrototype() is deprecated. Please '\n",
            "Real Videos: 100%|██████████| 150/150 [37:15<00:00, 14.90s/it]\n"
          ]
        },
        {
          "output_type": "stream",
          "name": "stdout",
          "text": [
            "Processing FAKE videos...\n"
          ]
        },
        {
          "output_type": "stream",
          "name": "stderr",
          "text": [
            "Fake Videos: 100%|██████████| 150/150 [37:43<00:00, 15.09s/it]"
          ]
        },
        {
          "output_type": "stream",
          "name": "stdout",
          "text": [
            "Frame processing complete. Cropped faces are saved locally.\n"
          ]
        },
        {
          "output_type": "stream",
          "name": "stderr",
          "text": [
            "\n"
          ]
        }
      ]
    },
    {
      "cell_type": "code",
      "source": [
        "# @title Step 4: Create the Optimized Data Pipeline\n",
        "real_frame_paths = [os.path.join(local_real_out, f) for f in os.listdir(local_real_out)]\n",
        "fake_frame_paths = [os.path.join(local_fake_out, f) for f in os.listdir(local_fake_out)]\n",
        "all_paths = real_frame_paths + fake_frame_paths\n",
        "labels = [0] * len(real_frame_paths) + [1] * len(fake_frame_paths)\n",
        "\n",
        "X_train, X_val, y_train, y_val = train_test_split(all_paths, labels, test_size=0.2, random_state=42, stratify=labels)\n",
        "\n",
        "def parse_function(filename, label):\n",
        "    image_string = tf.io.read_file(filename)\n",
        "    image = tf.image.decode_jpeg(image_string, channels=3)\n",
        "    image = tf.image.convert_image_dtype(image, tf.float32)\n",
        "    image = tf.image.resize(image, Config.IMAGE_SIZE)\n",
        "    image = preprocess_input(image)\n",
        "    return image, label\n",
        "\n",
        "def create_dataset(filepaths, labels):\n",
        "    dataset = tf.data.Dataset.from_tensor_slices((filepaths, labels))\n",
        "    dataset = dataset.map(parse_function, num_parallel_calls=tf.data.AUTOTUNE)\n",
        "    dataset = dataset.cache() # <-- Caches data for fast re-use\n",
        "    dataset = dataset.shuffle(buffer_size=1024).batch(Config.BATCH_SIZE)\n",
        "    dataset = dataset.prefetch(buffer_size=tf.data.AUTOTUNE)\n",
        "    return dataset\n",
        "\n",
        "train_ds = create_dataset(X_train, y_train)\n",
        "val_ds = create_dataset(X_val, y_val)\n",
        "print(f\"Data pipelines created with {len(X_train)} training and {len(X_val)} validation samples.\")"
      ],
      "metadata": {
        "colab": {
          "base_uri": "https://localhost:8080/"
        },
        "id": "z5JF4Xsx3vdo",
        "outputId": "f275baba-1ee4-4fa8-eaee-0494cb1052b6"
      },
      "execution_count": null,
      "outputs": [
        {
          "output_type": "stream",
          "name": "stdout",
          "text": [
            "Data pipelines created with 2742 training and 686 validation samples.\n"
          ]
        }
      ]
    },
    {
      "cell_type": "code",
      "source": [
        "# @title Step 5: Build Model and Train (Stage 1) 🧊\n",
        "base_model = EfficientNetB0(weights='imagenet', include_top=False, input_shape=(*Config.IMAGE_SIZE, 3))\n",
        "base_model.trainable = False # Freeze the expert base\n",
        "model = Sequential([base_model, layers.GlobalAveragePooling2D(), layers.Dropout(0.3), layers.Dense(1, activation='sigmoid')])\n",
        "\n",
        "# Compile with a normal learning rate\n",
        "model.compile(optimizer=keras.optimizers.Adam(learning_rate=0.001),\n",
        "              loss='binary_crossentropy',\n",
        "              metrics=['accuracy'])\n",
        "model.summary()\n",
        "\n",
        "# This saves the best model from Stage 1 to your Drive\n",
        "stage1_model_path = os.path.join(Config.GDRIVE_PROJECT_PATH, \"best_model_stage1.h5\")\n",
        "checkpoint_cb = keras.callbacks.ModelCheckpoint(filepath=stage1_model_path,\n",
        "                                                save_best_only=True,\n",
        "                                                monitor=\"val_accuracy\")\n",
        "\n",
        "print(\"\\n--- Starting Stage 1 Training (Feature Extraction) ---\")\n",
        "# The first epoch will be slow as it builds the cache.\n",
        "# Subsequent epochs will be much faster.\n",
        "history = model.fit(\n",
        "    train_ds,\n",
        "    epochs=Config.EPOCHS_STAGE_1,\n",
        "    validation_data=val_ds,\n",
        "    callbacks=[checkpoint_cb]\n",
        ")\n",
        "print(f\"✅ Stage 1 complete. Best model saved to {stage1_model_path}\")"
      ],
      "metadata": {
        "colab": {
          "base_uri": "https://localhost:8080/",
          "height": 767
        },
        "id": "UzMMHNyJ39-Z",
        "outputId": "08080288-b12d-454b-f0be-d73886ff38e4"
      },
      "execution_count": null,
      "outputs": [
        {
          "output_type": "stream",
          "name": "stdout",
          "text": [
            "Downloading data from https://storage.googleapis.com/keras-applications/efficientnetb0_notop.h5\n",
            "\u001b[1m16705208/16705208\u001b[0m \u001b[32m━━━━━━━━━━━━━━━━━━━━\u001b[0m\u001b[37m\u001b[0m \u001b[1m2s\u001b[0m 0us/step\n"
          ]
        },
        {
          "output_type": "display_data",
          "data": {
            "text/plain": [
              "\u001b[1mModel: \"sequential\"\u001b[0m\n"
            ],
            "text/html": [
              "<pre style=\"white-space:pre;overflow-x:auto;line-height:normal;font-family:Menlo,'DejaVu Sans Mono',consolas,'Courier New',monospace\"><span style=\"font-weight: bold\">Model: \"sequential\"</span>\n",
              "</pre>\n"
            ]
          },
          "metadata": {}
        },
        {
          "output_type": "display_data",
          "data": {
            "text/plain": [
              "┏━━━━━━━━━━━━━━━━━━━━━━━━━━━━━━━━━┳━━━━━━━━━━━━━━━━━━━━━━━━┳━━━━━━━━━━━━━━━┓\n",
              "┃\u001b[1m \u001b[0m\u001b[1mLayer (type)                   \u001b[0m\u001b[1m \u001b[0m┃\u001b[1m \u001b[0m\u001b[1mOutput Shape          \u001b[0m\u001b[1m \u001b[0m┃\u001b[1m \u001b[0m\u001b[1m      Param #\u001b[0m\u001b[1m \u001b[0m┃\n",
              "┡━━━━━━━━━━━━━━━━━━━━━━━━━━━━━━━━━╇━━━━━━━━━━━━━━━━━━━━━━━━╇━━━━━━━━━━━━━━━┩\n",
              "│ efficientnetb0 (\u001b[38;5;33mFunctional\u001b[0m)     │ (\u001b[38;5;45mNone\u001b[0m, \u001b[38;5;34m7\u001b[0m, \u001b[38;5;34m7\u001b[0m, \u001b[38;5;34m1280\u001b[0m)     │     \u001b[38;5;34m4,049,571\u001b[0m │\n",
              "├─────────────────────────────────┼────────────────────────┼───────────────┤\n",
              "│ global_average_pooling2d        │ (\u001b[38;5;45mNone\u001b[0m, \u001b[38;5;34m1280\u001b[0m)           │             \u001b[38;5;34m0\u001b[0m │\n",
              "│ (\u001b[38;5;33mGlobalAveragePooling2D\u001b[0m)        │                        │               │\n",
              "├─────────────────────────────────┼────────────────────────┼───────────────┤\n",
              "│ dropout (\u001b[38;5;33mDropout\u001b[0m)               │ (\u001b[38;5;45mNone\u001b[0m, \u001b[38;5;34m1280\u001b[0m)           │             \u001b[38;5;34m0\u001b[0m │\n",
              "├─────────────────────────────────┼────────────────────────┼───────────────┤\n",
              "│ dense (\u001b[38;5;33mDense\u001b[0m)                   │ (\u001b[38;5;45mNone\u001b[0m, \u001b[38;5;34m1\u001b[0m)              │         \u001b[38;5;34m1,281\u001b[0m │\n",
              "└─────────────────────────────────┴────────────────────────┴───────────────┘\n"
            ],
            "text/html": [
              "<pre style=\"white-space:pre;overflow-x:auto;line-height:normal;font-family:Menlo,'DejaVu Sans Mono',consolas,'Courier New',monospace\">┏━━━━━━━━━━━━━━━━━━━━━━━━━━━━━━━━━┳━━━━━━━━━━━━━━━━━━━━━━━━┳━━━━━━━━━━━━━━━┓\n",
              "┃<span style=\"font-weight: bold\"> Layer (type)                    </span>┃<span style=\"font-weight: bold\"> Output Shape           </span>┃<span style=\"font-weight: bold\">       Param # </span>┃\n",
              "┡━━━━━━━━━━━━━━━━━━━━━━━━━━━━━━━━━╇━━━━━━━━━━━━━━━━━━━━━━━━╇━━━━━━━━━━━━━━━┩\n",
              "│ efficientnetb0 (<span style=\"color: #0087ff; text-decoration-color: #0087ff\">Functional</span>)     │ (<span style=\"color: #00d7ff; text-decoration-color: #00d7ff\">None</span>, <span style=\"color: #00af00; text-decoration-color: #00af00\">7</span>, <span style=\"color: #00af00; text-decoration-color: #00af00\">7</span>, <span style=\"color: #00af00; text-decoration-color: #00af00\">1280</span>)     │     <span style=\"color: #00af00; text-decoration-color: #00af00\">4,049,571</span> │\n",
              "├─────────────────────────────────┼────────────────────────┼───────────────┤\n",
              "│ global_average_pooling2d        │ (<span style=\"color: #00d7ff; text-decoration-color: #00d7ff\">None</span>, <span style=\"color: #00af00; text-decoration-color: #00af00\">1280</span>)           │             <span style=\"color: #00af00; text-decoration-color: #00af00\">0</span> │\n",
              "│ (<span style=\"color: #0087ff; text-decoration-color: #0087ff\">GlobalAveragePooling2D</span>)        │                        │               │\n",
              "├─────────────────────────────────┼────────────────────────┼───────────────┤\n",
              "│ dropout (<span style=\"color: #0087ff; text-decoration-color: #0087ff\">Dropout</span>)               │ (<span style=\"color: #00d7ff; text-decoration-color: #00d7ff\">None</span>, <span style=\"color: #00af00; text-decoration-color: #00af00\">1280</span>)           │             <span style=\"color: #00af00; text-decoration-color: #00af00\">0</span> │\n",
              "├─────────────────────────────────┼────────────────────────┼───────────────┤\n",
              "│ dense (<span style=\"color: #0087ff; text-decoration-color: #0087ff\">Dense</span>)                   │ (<span style=\"color: #00d7ff; text-decoration-color: #00d7ff\">None</span>, <span style=\"color: #00af00; text-decoration-color: #00af00\">1</span>)              │         <span style=\"color: #00af00; text-decoration-color: #00af00\">1,281</span> │\n",
              "└─────────────────────────────────┴────────────────────────┴───────────────┘\n",
              "</pre>\n"
            ]
          },
          "metadata": {}
        },
        {
          "output_type": "display_data",
          "data": {
            "text/plain": [
              "\u001b[1m Total params: \u001b[0m\u001b[38;5;34m4,050,852\u001b[0m (15.45 MB)\n"
            ],
            "text/html": [
              "<pre style=\"white-space:pre;overflow-x:auto;line-height:normal;font-family:Menlo,'DejaVu Sans Mono',consolas,'Courier New',monospace\"><span style=\"font-weight: bold\"> Total params: </span><span style=\"color: #00af00; text-decoration-color: #00af00\">4,050,852</span> (15.45 MB)\n",
              "</pre>\n"
            ]
          },
          "metadata": {}
        },
        {
          "output_type": "display_data",
          "data": {
            "text/plain": [
              "\u001b[1m Trainable params: \u001b[0m\u001b[38;5;34m1,281\u001b[0m (5.00 KB)\n"
            ],
            "text/html": [
              "<pre style=\"white-space:pre;overflow-x:auto;line-height:normal;font-family:Menlo,'DejaVu Sans Mono',consolas,'Courier New',monospace\"><span style=\"font-weight: bold\"> Trainable params: </span><span style=\"color: #00af00; text-decoration-color: #00af00\">1,281</span> (5.00 KB)\n",
              "</pre>\n"
            ]
          },
          "metadata": {}
        },
        {
          "output_type": "display_data",
          "data": {
            "text/plain": [
              "\u001b[1m Non-trainable params: \u001b[0m\u001b[38;5;34m4,049,571\u001b[0m (15.45 MB)\n"
            ],
            "text/html": [
              "<pre style=\"white-space:pre;overflow-x:auto;line-height:normal;font-family:Menlo,'DejaVu Sans Mono',consolas,'Courier New',monospace\"><span style=\"font-weight: bold\"> Non-trainable params: </span><span style=\"color: #00af00; text-decoration-color: #00af00\">4,049,571</span> (15.45 MB)\n",
              "</pre>\n"
            ]
          },
          "metadata": {}
        },
        {
          "output_type": "stream",
          "name": "stdout",
          "text": [
            "\n",
            "--- Starting Stage 1 Training (Feature Extraction) ---\n",
            "Epoch 1/10\n",
            "\u001b[1m86/86\u001b[0m \u001b[32m━━━━━━━━━━━━━━━━━━━━\u001b[0m\u001b[37m\u001b[0m \u001b[1m0s\u001b[0m 2s/step - accuracy: 0.5116 - loss: 0.7009"
          ]
        },
        {
          "output_type": "stream",
          "name": "stderr",
          "text": [
            "WARNING:absl:You are saving your model as an HDF5 file via `model.save()` or `keras.saving.save_model(model)`. This file format is considered legacy. We recommend using instead the native Keras format, e.g. `model.save('my_model.keras')` or `keras.saving.save_model(model, 'my_model.keras')`. \n"
          ]
        },
        {
          "output_type": "stream",
          "name": "stdout",
          "text": [
            "\b\b\b\b\b\b\b\b\b\b\b\b\b\b\b\b\b\b\b\b\b\b\b\b\b\b\b\b\b\b\b\b\b\b\b\b\b\b\b\b\b\b\b\b\b\b\b\b\b\b\b\b\b\b\b\b\b\b\b\b\b\b\b\b\b\b\b\b\b\b\b\r\u001b[1m86/86\u001b[0m \u001b[32m━━━━━━━━━━━━━━━━━━━━\u001b[0m\u001b[37m\u001b[0m \u001b[1m242s\u001b[0m 3s/step - accuracy: 0.5115 - loss: 0.7009 - val_accuracy: 0.5000 - val_loss: 0.6931\n",
            "Epoch 2/10\n",
            "\u001b[1m86/86\u001b[0m \u001b[32m━━━━━━━━━━━━━━━━━━━━\u001b[0m\u001b[37m\u001b[0m \u001b[1m251s\u001b[0m 3s/step - accuracy: 0.4913 - loss: 0.6995 - val_accuracy: 0.5000 - val_loss: 0.6936\n",
            "Epoch 3/10\n",
            "\u001b[1m86/86\u001b[0m \u001b[32m━━━━━━━━━━━━━━━━━━━━\u001b[0m\u001b[37m\u001b[0m \u001b[1m298s\u001b[0m 3s/step - accuracy: 0.5008 - loss: 0.6977 - val_accuracy: 0.5000 - val_loss: 0.6943\n",
            "Epoch 4/10\n",
            "\u001b[1m86/86\u001b[0m \u001b[32m━━━━━━━━━━━━━━━━━━━━\u001b[0m\u001b[37m\u001b[0m \u001b[1m218s\u001b[0m 3s/step - accuracy: 0.4999 - loss: 0.7017 - val_accuracy: 0.5000 - val_loss: 0.6980\n",
            "Epoch 5/10\n",
            "\u001b[1m86/86\u001b[0m \u001b[32m━━━━━━━━━━━━━━━━━━━━\u001b[0m\u001b[37m\u001b[0m \u001b[1m255s\u001b[0m 3s/step - accuracy: 0.4999 - loss: 0.6996 - val_accuracy: 0.5000 - val_loss: 0.6995\n",
            "Epoch 6/10\n",
            "\u001b[1m86/86\u001b[0m \u001b[32m━━━━━━━━━━━━━━━━━━━━\u001b[0m\u001b[37m\u001b[0m \u001b[1m218s\u001b[0m 3s/step - accuracy: 0.5183 - loss: 0.6990 - val_accuracy: 0.5000 - val_loss: 0.6942\n",
            "Epoch 7/10\n",
            "\u001b[1m86/86\u001b[0m \u001b[32m━━━━━━━━━━━━━━━━━━━━\u001b[0m\u001b[37m\u001b[0m \u001b[1m259s\u001b[0m 3s/step - accuracy: 0.4825 - loss: 0.6996 - val_accuracy: 0.5000 - val_loss: 0.6936\n",
            "Epoch 8/10\n",
            "\u001b[1m86/86\u001b[0m \u001b[32m━━━━━━━━━━━━━━━━━━━━\u001b[0m\u001b[37m\u001b[0m \u001b[1m214s\u001b[0m 2s/step - accuracy: 0.4817 - loss: 0.7012 - val_accuracy: 0.5000 - val_loss: 0.6997\n",
            "Epoch 9/10\n",
            "\u001b[1m86/86\u001b[0m \u001b[32m━━━━━━━━━━━━━━━━━━━━\u001b[0m\u001b[37m\u001b[0m \u001b[1m302s\u001b[0m 3s/step - accuracy: 0.5052 - loss: 0.7017 - val_accuracy: 0.5000 - val_loss: 0.6933\n",
            "Epoch 10/10\n",
            "\u001b[1m86/86\u001b[0m \u001b[32m━━━━━━━━━━━━━━━━━━━━\u001b[0m\u001b[37m\u001b[0m \u001b[1m217s\u001b[0m 3s/step - accuracy: 0.5000 - loss: 0.6989 - val_accuracy: 0.5000 - val_loss: 0.6988\n",
            "✅ Stage 1 complete. Best model saved to /content/drive/MyDrive/Deepfake_Project/best_model_stage1.h5\n"
          ]
        }
      ]
    },
    {
      "cell_type": "code",
      "source": [
        "# @title Step 6: Load Model and Train (Stage 2 - Fine-Tuning) 🔥\n",
        "# Load the best model from Stage 1\n",
        "model = keras.models.load_model(stage1_model_path)\n",
        "model.get_layer('efficientnetb0').trainable = True # Unfreeze the base\n",
        "\n",
        "# Re-compile with a VERY low learning rate\n",
        "model.compile(optimizer=keras.optimizers.Adam(learning_rate=1e-5),\n",
        "              loss='binary_crossentropy',\n",
        "              metrics=['accuracy'])\n",
        "model.summary()\n",
        "\n",
        "# This saves the final, best fine-tuned model weights to your Drive\n",
        "final_model_path = os.path.join(Config.GDRIVE_PROJECT_PATH, \"fine_tuned_model_weights.h5\") # Changed filename to reflect saving weights\n",
        "finetune_checkpoint_cb = keras.callbacks.ModelCheckpoint(filepath=final_model_path,\n",
        "                                                         save_best_only=True,\n",
        "                                                         monitor=\"val_accuracy\",\n",
        "                                                         save_weights_only=True) # Added save_weights_only=True\n",
        "\n",
        "print(\"\\n--- Starting Stage 2 Training (Fine-Tuning) ---\")\n",
        "# All epochs will be fast because the data is cached.\n",
        "history_fine_tune = model.fit(\n",
        "    train_ds,\n",
        "    epochs=Config.EPOCHS_STAGE_2, # Train for just a few more epochs\n",
        "    validation_data=val_ds,\n",
        "    callbacks=[finetune_checkpoint_cb]\n",
        ")\n",
        "print(f\"✅ Fine-tuning complete. Final model weights saved to {final_model_path}\")"
      ],
      "metadata": {
        "colab": {
          "base_uri": "https://localhost:8080/",
          "height": 550
        },
        "id": "s3CpDYHs6swK",
        "outputId": "5fce41ba-7113-406b-9ebd-c29fc40680e3"
      },
      "execution_count": null,
      "outputs": [
        {
          "output_type": "stream",
          "name": "stderr",
          "text": [
            "WARNING:absl:Compiled the loaded model, but the compiled metrics have yet to be built. `model.compile_metrics` will be empty until you train or evaluate the model.\n"
          ]
        },
        {
          "output_type": "display_data",
          "data": {
            "text/plain": [
              "\u001b[1mModel: \"sequential\"\u001b[0m\n"
            ],
            "text/html": [
              "<pre style=\"white-space:pre;overflow-x:auto;line-height:normal;font-family:Menlo,'DejaVu Sans Mono',consolas,'Courier New',monospace\"><span style=\"font-weight: bold\">Model: \"sequential\"</span>\n",
              "</pre>\n"
            ]
          },
          "metadata": {}
        },
        {
          "output_type": "display_data",
          "data": {
            "text/plain": [
              "┏━━━━━━━━━━━━━━━━━━━━━━━━━━━━━━━━━┳━━━━━━━━━━━━━━━━━━━━━━━━┳━━━━━━━━━━━━━━━┓\n",
              "┃\u001b[1m \u001b[0m\u001b[1mLayer (type)                   \u001b[0m\u001b[1m \u001b[0m┃\u001b[1m \u001b[0m\u001b[1mOutput Shape          \u001b[0m\u001b[1m \u001b[0m┃\u001b[1m \u001b[0m\u001b[1m      Param #\u001b[0m\u001b[1m \u001b[0m┃\n",
              "┡━━━━━━━━━━━━━━━━━━━━━━━━━━━━━━━━━╇━━━━━━━━━━━━━━━━━━━━━━━━╇━━━━━━━━━━━━━━━┩\n",
              "│ efficientnetb0 (\u001b[38;5;33mFunctional\u001b[0m)     │ (\u001b[38;5;45mNone\u001b[0m, \u001b[38;5;34m7\u001b[0m, \u001b[38;5;34m7\u001b[0m, \u001b[38;5;34m1280\u001b[0m)     │     \u001b[38;5;34m4,049,571\u001b[0m │\n",
              "├─────────────────────────────────┼────────────────────────┼───────────────┤\n",
              "│ global_average_pooling2d        │ (\u001b[38;5;45mNone\u001b[0m, \u001b[38;5;34m1280\u001b[0m)           │             \u001b[38;5;34m0\u001b[0m │\n",
              "│ (\u001b[38;5;33mGlobalAveragePooling2D\u001b[0m)        │                        │               │\n",
              "├─────────────────────────────────┼────────────────────────┼───────────────┤\n",
              "│ dropout (\u001b[38;5;33mDropout\u001b[0m)               │ (\u001b[38;5;45mNone\u001b[0m, \u001b[38;5;34m1280\u001b[0m)           │             \u001b[38;5;34m0\u001b[0m │\n",
              "├─────────────────────────────────┼────────────────────────┼───────────────┤\n",
              "│ dense (\u001b[38;5;33mDense\u001b[0m)                   │ (\u001b[38;5;45mNone\u001b[0m, \u001b[38;5;34m1\u001b[0m)              │         \u001b[38;5;34m1,281\u001b[0m │\n",
              "└─────────────────────────────────┴────────────────────────┴───────────────┘\n"
            ],
            "text/html": [
              "<pre style=\"white-space:pre;overflow-x:auto;line-height:normal;font-family:Menlo,'DejaVu Sans Mono',consolas,'Courier New',monospace\">┏━━━━━━━━━━━━━━━━━━━━━━━━━━━━━━━━━┳━━━━━━━━━━━━━━━━━━━━━━━━┳━━━━━━━━━━━━━━━┓\n",
              "┃<span style=\"font-weight: bold\"> Layer (type)                    </span>┃<span style=\"font-weight: bold\"> Output Shape           </span>┃<span style=\"font-weight: bold\">       Param # </span>┃\n",
              "┡━━━━━━━━━━━━━━━━━━━━━━━━━━━━━━━━━╇━━━━━━━━━━━━━━━━━━━━━━━━╇━━━━━━━━━━━━━━━┩\n",
              "│ efficientnetb0 (<span style=\"color: #0087ff; text-decoration-color: #0087ff\">Functional</span>)     │ (<span style=\"color: #00d7ff; text-decoration-color: #00d7ff\">None</span>, <span style=\"color: #00af00; text-decoration-color: #00af00\">7</span>, <span style=\"color: #00af00; text-decoration-color: #00af00\">7</span>, <span style=\"color: #00af00; text-decoration-color: #00af00\">1280</span>)     │     <span style=\"color: #00af00; text-decoration-color: #00af00\">4,049,571</span> │\n",
              "├─────────────────────────────────┼────────────────────────┼───────────────┤\n",
              "│ global_average_pooling2d        │ (<span style=\"color: #00d7ff; text-decoration-color: #00d7ff\">None</span>, <span style=\"color: #00af00; text-decoration-color: #00af00\">1280</span>)           │             <span style=\"color: #00af00; text-decoration-color: #00af00\">0</span> │\n",
              "│ (<span style=\"color: #0087ff; text-decoration-color: #0087ff\">GlobalAveragePooling2D</span>)        │                        │               │\n",
              "├─────────────────────────────────┼────────────────────────┼───────────────┤\n",
              "│ dropout (<span style=\"color: #0087ff; text-decoration-color: #0087ff\">Dropout</span>)               │ (<span style=\"color: #00d7ff; text-decoration-color: #00d7ff\">None</span>, <span style=\"color: #00af00; text-decoration-color: #00af00\">1280</span>)           │             <span style=\"color: #00af00; text-decoration-color: #00af00\">0</span> │\n",
              "├─────────────────────────────────┼────────────────────────┼───────────────┤\n",
              "│ dense (<span style=\"color: #0087ff; text-decoration-color: #0087ff\">Dense</span>)                   │ (<span style=\"color: #00d7ff; text-decoration-color: #00d7ff\">None</span>, <span style=\"color: #00af00; text-decoration-color: #00af00\">1</span>)              │         <span style=\"color: #00af00; text-decoration-color: #00af00\">1,281</span> │\n",
              "└─────────────────────────────────┴────────────────────────┴───────────────┘\n",
              "</pre>\n"
            ]
          },
          "metadata": {}
        },
        {
          "output_type": "display_data",
          "data": {
            "text/plain": [
              "\u001b[1m Total params: \u001b[0m\u001b[38;5;34m4,050,852\u001b[0m (15.45 MB)\n"
            ],
            "text/html": [
              "<pre style=\"white-space:pre;overflow-x:auto;line-height:normal;font-family:Menlo,'DejaVu Sans Mono',consolas,'Courier New',monospace\"><span style=\"font-weight: bold\"> Total params: </span><span style=\"color: #00af00; text-decoration-color: #00af00\">4,050,852</span> (15.45 MB)\n",
              "</pre>\n"
            ]
          },
          "metadata": {}
        },
        {
          "output_type": "display_data",
          "data": {
            "text/plain": [
              "\u001b[1m Trainable params: \u001b[0m\u001b[38;5;34m4,008,829\u001b[0m (15.29 MB)\n"
            ],
            "text/html": [
              "<pre style=\"white-space:pre;overflow-x:auto;line-height:normal;font-family:Menlo,'DejaVu Sans Mono',consolas,'Courier New',monospace\"><span style=\"font-weight: bold\"> Trainable params: </span><span style=\"color: #00af00; text-decoration-color: #00af00\">4,008,829</span> (15.29 MB)\n",
              "</pre>\n"
            ]
          },
          "metadata": {}
        },
        {
          "output_type": "display_data",
          "data": {
            "text/plain": [
              "\u001b[1m Non-trainable params: \u001b[0m\u001b[38;5;34m42,023\u001b[0m (164.16 KB)\n"
            ],
            "text/html": [
              "<pre style=\"white-space:pre;overflow-x:auto;line-height:normal;font-family:Menlo,'DejaVu Sans Mono',consolas,'Courier New',monospace\"><span style=\"font-weight: bold\"> Non-trainable params: </span><span style=\"color: #00af00; text-decoration-color: #00af00\">42,023</span> (164.16 KB)\n",
              "</pre>\n"
            ]
          },
          "metadata": {}
        },
        {
          "output_type": "stream",
          "name": "stdout",
          "text": [
            "\n",
            "--- Starting Stage 2 Training (Fine-Tuning) ---\n",
            "Epoch 1/5\n",
            "\u001b[1m86/86\u001b[0m \u001b[32m━━━━━━━━━━━━━━━━━━━━\u001b[0m\u001b[37m\u001b[0m \u001b[1m771s\u001b[0m 8s/step - accuracy: 0.5291 - loss: 0.6996 - val_accuracy: 0.5000 - val_loss: 0.6932\n",
            "Epoch 2/5\n",
            "\u001b[1m86/86\u001b[0m \u001b[32m━━━━━━━━━━━━━━━━━━━━\u001b[0m\u001b[37m\u001b[0m \u001b[1m719s\u001b[0m 8s/step - accuracy: 0.7174 - loss: 0.5885 - val_accuracy: 0.5000 - val_loss: 0.6930\n",
            "Epoch 3/5\n",
            "\u001b[1m86/86\u001b[0m \u001b[32m━━━━━━━━━━━━━━━━━━━━\u001b[0m\u001b[37m\u001b[0m \u001b[1m719s\u001b[0m 8s/step - accuracy: 0.7941 - loss: 0.4988 - val_accuracy: 0.5000 - val_loss: 0.6954\n",
            "Epoch 4/5\n",
            "\u001b[1m86/86\u001b[0m \u001b[32m━━━━━━━━━━━━━━━━━━━━\u001b[0m\u001b[37m\u001b[0m \u001b[1m740s\u001b[0m 9s/step - accuracy: 0.8444 - loss: 0.4171 - val_accuracy: 0.5044 - val_loss: 0.6952\n",
            "Epoch 5/5\n",
            "\u001b[1m86/86\u001b[0m \u001b[32m━━━━━━━━━━━━━━━━━━━━\u001b[0m\u001b[37m\u001b[0m \u001b[1m743s\u001b[0m 9s/step - accuracy: 0.8731 - loss: 0.3647 - val_accuracy: 0.5335 - val_loss: 1.0725\n",
            "✅ Fine-tuning complete. Final model weights saved to /content/drive/MyDrive/Deepfake_Project/fine_tuned_model_weights.weights.h5\n"
          ]
        }
      ]
    },
    {
      "cell_type": "code",
      "source": [
        "# @title Step 8: Test Model on a Single Video\n",
        "import tensorflow as tf\n",
        "from tensorflow import keras\n",
        "from tensorflow.keras import layers\n",
        "from tensorflow.keras.models import Sequential\n",
        "from tensorflow.keras.applications import EfficientNetB0\n",
        "from tensorflow.keras.applications.efficientnet import preprocess_input\n",
        "import cv2\n",
        "import numpy as np\n",
        "import os\n",
        "from google.colab import drive\n",
        "import mediapipe as mp\n",
        "from tqdm import tqdm\n",
        "\n",
        "# --- 1. Configuration ---\n",
        "# ❗ Make sure these paths are correct\n",
        "GDRIVE_PROJECT_PATH = \"/content/drive/MyDrive/Deepfake_Project/\"\n",
        "# Updated path to load weights file\n",
        "FINAL_MODEL_WEIGHTS_PATH = os.path.join(GDRIVE_PROJECT_PATH, \"fine_tuned_model_weights.weights.h5\")\n",
        "\n",
        "# ❗ UPDATE THIS PATH to a test video in your Drive\n",
        "TEST_VIDEO_PATH = \"/content/drive/MyDrive/Datasets/fight_Club.mp4\"\n",
        "\n",
        "IMAGE_SIZE = (224, 224)\n",
        "\n",
        "# --- 2. Mount Drive and Build Model Architecture ---\n",
        "print(\"Mounting Drive...\")\n",
        "drive.mount('/content/drive', force_remount=True)\n",
        "\n",
        "print(\"Building model architecture...\")\n",
        "# Rebuild the model architecture exactly as in Stage 2\n",
        "base_model = EfficientNetB0(weights='imagenet', include_top=False, input_shape=(*IMAGE_SIZE, 3))\n",
        "# Unfreeze for fine-tuning structure, though we are only loading weights for inference\n",
        "base_model.trainable = True\n",
        "model = Sequential([base_model, layers.GlobalAveragePooling2D(), layers.Dropout(0.3), layers.Dense(1, activation='sigmoid')])\n",
        "\n",
        "# Compile the model (required before loading weights in some Keras versions, good practice)\n",
        "model.compile(optimizer=keras.optimizers.Adam(learning_rate=1e-5), # Use the same learning rate as fine-tuning or a dummy one\n",
        "              loss='binary_crossentropy',\n",
        "              metrics=['accuracy'])\n",
        "\n",
        "print(f\"Loading model weights from {FINAL_MODEL_WEIGHTS_PATH}...\")\n",
        "# Load only the weights into the rebuilt model\n",
        "model.load_weights(FINAL_MODEL_WEIGHTS_PATH)\n",
        "print(\"Model weights loaded successfully.\")\n",
        "\n",
        "# --- 3. Initialize Face Detector ---\n",
        "face_detection = mp.solutions.face_detection.FaceDetection(min_detection_confidence=0.5)\n",
        "\n",
        "# --- 4. Open and Process the Video ---\n",
        "print(f\"Opening video file: {TEST_VIDEO_PATH}\")\n",
        "cap = cv2.VideoCapture(TEST_VIDEO_PATH)\n",
        "if not cap.isOpened():\n",
        "    print(\"Error: Could not open video file.\")\n",
        "else:\n",
        "    frame_predictions = []\n",
        "    total_frames = int(cap.get(cv2.CAP_PROP_FRAME_COUNT))\n",
        "\n",
        "    for _ in tqdm(range(total_frames), desc=\"Analyzing video\"):\n",
        "        ret, frame = cap.read()\n",
        "        if not ret:\n",
        "            break\n",
        "\n",
        "        # Detect face with MediaPipe\n",
        "        image_rgb = cv2.cvtColor(frame, cv2.COLOR_BGR2RGB)\n",
        "        results = face_detection.process(image_rgb)\n",
        "\n",
        "        if results.detections:\n",
        "            detection = results.detections[0]\n",
        "            box = detection.location_data.relative_bounding_box\n",
        "            h, w, _ = frame.shape\n",
        "            x, y, W, H = int(box.xmin*w), int(box.ymin*h), int(box.width*w), int(box.height*h)\n",
        "\n",
        "            # Crop the face\n",
        "            cropped_face = frame[max(0, y):y+H, max(0, x):x+W]\n",
        "\n",
        "            if cropped_face.size > 0:\n",
        "                # Preprocess the face for the model\n",
        "                face_resized = cv2.resize(cropped_face, IMAGE_SIZE)\n",
        "                face_array = keras.utils.img_to_array(face_resized)\n",
        "                face_expanded = np.expand_dims(face_array, axis=0)\n",
        "                face_processed = preprocess_input(face_expanded)\n",
        "\n",
        "                # Get a prediction\n",
        "                # Use verbose=0 to prevent progress bar for each prediction\n",
        "                prediction = model.predict(face_processed, verbose=0)\n",
        "                frame_predictions.append(prediction[0][0])\n",
        "\n",
        "    cap.release()\n",
        "\n",
        "    # --- 5. Calculate and Show Final Verdict ---\n",
        "    if len(frame_predictions) > 0:\n",
        "        average_score = np.mean(frame_predictions)\n",
        "\n",
        "        print(\"\\n--- FINAL VERDICT ---\")\n",
        "        # Assuming 0 is real, 1 is fake (based on your label setup)\n",
        "        if average_score > 0.45:\n",
        "            print(f\"Result: 🔴 FAKE 🔴\")\n",
        "            print(f\"Confidence: {average_score * 100:.2f}%\")\n",
        "        else:\n",
        "            print(f\"Result: 🟢 REAL 🟢\")\n",
        "            print(f\"Confidence: {(1 - average_score) * 100:.2f}%\") # Confidence for REAL is 1 - score\n",
        "\n",
        "        print(f\"\\nAnalyzed {len(frame_predictions)} frames with faces.\")\n",
        "    else:\n",
        "        print(\"\\n--- ANALYSIS FAILED ---\")\n",
        "        print(\"Could not detect any faces in the video.\")"
      ],
      "metadata": {
        "colab": {
          "base_uri": "https://localhost:8080/"
        },
        "id": "p3-4jJAcZHn6",
        "outputId": "8dbd0c82-0af2-43c8-e68e-55c35b0438aa"
      },
      "execution_count": 14,
      "outputs": [
        {
          "output_type": "stream",
          "name": "stdout",
          "text": [
            "Mounting Drive...\n",
            "Mounted at /content/drive\n",
            "Building model architecture...\n",
            "Loading model weights from /content/drive/MyDrive/Deepfake_Project/fine_tuned_model_weights.weights.h5...\n",
            "Model weights loaded successfully.\n",
            "Opening video file: /content/drive/MyDrive/Datasets/fight_Club.mp4\n"
          ]
        },
        {
          "output_type": "stream",
          "name": "stderr",
          "text": [
            "Analyzing video: 100%|██████████| 149/149 [00:31<00:00,  4.70it/s]"
          ]
        },
        {
          "output_type": "stream",
          "name": "stdout",
          "text": [
            "\n",
            "--- FINAL VERDICT ---\n",
            "Result: 🔴 FAKE 🔴\n",
            "Confidence: 50.58%\n",
            "\n",
            "Analyzed 149 frames with faces.\n"
          ]
        },
        {
          "output_type": "stream",
          "name": "stderr",
          "text": [
            "\n"
          ]
        }
      ]
    },
    {
      "cell_type": "code",
      "source": [
        "# @title Step 9: Test Model on a Single IMAGE\n",
        "import tensorflow as tf\n",
        "from tensorflow import keras\n",
        "from tensorflow.keras import layers\n",
        "from tensorflow.keras.models import Sequential\n",
        "from tensorflow.keras.applications import EfficientNetB0\n",
        "from tensorflow.keras.applications.efficientnet import preprocess_input\n",
        "import cv2\n",
        "import numpy as np\n",
        "import os\n",
        "from google.colab import drive\n",
        "import mediapipe as mp\n",
        "from google.colab.patches import cv2_imshow # Use cv2_imshow for Colab\n",
        "\n",
        "# --- 1. Configuration ---\n",
        "# ❗ Make sure these paths are correct\n",
        "GDRIVE_PROJECT_PATH = \"/content/drive/MyDrive/Deepfake_Project/\"\n",
        "FINAL_MODEL_WEIGHTS_PATH = os.path.join(GDRIVE_PROJECT_PATH, \"fine_tuned_model_weights.weights.h5\")\n",
        "\n",
        "# ❗ UPDATE THIS PATH to a test image in your Drive\n",
        "TEST_IMAGE_PATH = \"/content/drive/MyDrive/Datasets/modi-fake2.jpg\"\n",
        "\n",
        "IMAGE_SIZE = (224, 224)\n",
        "\n",
        "# --- 2. Mount Drive and Load Model ---\n",
        "print(\"Mounting Drive...\")\n",
        "drive.mount('/content/drive', force_remount=True)\n",
        "\n",
        "print(\"Building model architecture...\")\n",
        "# Rebuild the model architecture exactly as in Stage 2\n",
        "base_model = EfficientNetB0(weights='imagenet', include_top=False, input_shape=(*IMAGE_SIZE, 3))\n",
        "# Unfreeze for fine-tuning structure, though we are only loading weights for inference\n",
        "base_model.trainable = True\n",
        "model = Sequential([base_model, layers.GlobalAveragePooling2D(), layers.Dropout(0.3), layers.Dense(1, activation='sigmoid')])\n",
        "\n",
        "# Compile the model (required before loading weights in some Keras versions, good practice)\n",
        "model.compile(optimizer=keras.optimizers.Adam(learning_rate=1e-5), # Use the same learning rate as fine-tuning or a dummy one\n",
        "              loss='binary_crossentropy',\n",
        "              metrics=['accuracy'])\n",
        "\n",
        "print(f\"Loading trained model weights from {FINAL_MODEL_WEIGHTS_PATH}...\")\n",
        "# Load only the weights into the rebuilt model\n",
        "model.load_weights(FINAL_MODEL_WEIGHTS_PATH)\n",
        "print(\"Model weights loaded successfully.\")\n",
        "\n",
        "# --- 3. Initialize Face Detector ---\n",
        "face_detection = mp.solutions.face_detection.FaceDetection(min_detection_confidence=0.5)\n",
        "\n",
        "# --- 4. Load and Process the Image ---\n",
        "print(f\"Opening image file: {TEST_IMAGE_PATH}\")\n",
        "frame = cv2.imread(TEST_IMAGE_PATH)\n",
        "\n",
        "if frame is None:\n",
        "    print(\"Error: Could not read image file.\")\n",
        "else:\n",
        "    # Detect face with MediaPipe\n",
        "    image_rgb = cv2.cvtColor(frame, cv2.COLOR_BGR2RGB)\n",
        "    results = face_detection.process(image_rgb)\n",
        "\n",
        "    if results.detections:\n",
        "        detection = results.detections[0]\n",
        "        box = detection.location_data.relative_bounding_box\n",
        "        h, w, _ = frame.shape\n",
        "        x, y, W, H = int(box.xmin*w), int(box.ymin*h), int(box.width*w), int(box.height*h)\n",
        "\n",
        "        # Crop the face\n",
        "        cropped_face = frame[max(0, y):y+H, max(0, x):x+W]\n",
        "\n",
        "        if cropped_face.size > 0:\n",
        "            # Preprocess the face for the model\n",
        "            face_resized = cv2.resize(cropped_face, IMAGE_SIZE)\n",
        "            face_array = keras.utils.img_to_array(face_resized)\n",
        "            face_expanded = np.expand_dims(face_array, axis=0)\n",
        "            face_processed = preprocess_input(face_expanded)\n",
        "\n",
        "            # Get a prediction\n",
        "            prediction = model.predict(face_processed, verbose=0)\n",
        "            score = prediction[0][0]\n",
        "\n",
        "            # --- 5. Show Final Verdict ---\n",
        "            print(\"\\n--- FINAL VERDICT ---\")\n",
        "            # Assuming 0 is real, 1 is fake (based on your label setup)\n",
        "            if score > 0.5:\n",
        "                verdict = f\"🔴 FAKE 🔴 (Confidence: {score * 100:.2f}%)\"\n",
        "            else:\n",
        "                verdict = f\"🟢 REAL 🟢 (Confidence: {(1 - score) * 100:.2f}%)\"\n",
        "\n",
        "            print(verdict)\n",
        "\n",
        "            # Draw verdict on the original image and display it\n",
        "            cv2.rectangle(frame, (x, y), (x+W, y+H), (0, 255, 0), 2)\n",
        "            cv2.putText(frame, verdict, (10, 30), cv2.FONT_HERSHEY_SIMPLEX, 1, (0, 0, 255), 2)\n",
        "            cv2_imshow(frame)\n",
        "\n",
        "        else:\n",
        "            print(\"Detected a face, but crop was empty.\")\n",
        "    else:\n",
        "        print(\"\\n--- ANALYSIS FAILED ---\")\n",
        "        print(\"Could not detect any faces in the image.\")"
      ],
      "metadata": {
        "colab": {
          "base_uri": "https://localhost:8080/",
          "height": 416
        },
        "id": "Gqu7LmnUj3gA",
        "outputId": "f49fec85-d985-425d-dbe1-a0be15301fad"
      },
      "execution_count": 13,
      "outputs": [
        {
          "output_type": "stream",
          "name": "stdout",
          "text": [
            "Mounting Drive...\n",
            "Mounted at /content/drive\n",
            "Building model architecture...\n",
            "Loading trained model weights from /content/drive/MyDrive/Deepfake_Project/fine_tuned_model_weights.weights.h5...\n",
            "Model weights loaded successfully.\n",
            "Opening image file: /content/drive/MyDrive/Datasets/modi-fake2.jpg\n",
            "\n",
            "--- FINAL VERDICT ---\n",
            "🔴 FAKE 🔴 (Confidence: 100.00%)\n"
          ]
        },
        {
          "output_type": "display_data",
          "data": {
            "text/plain": [
              "<PIL.Image.Image image mode=RGB size=233x216>"
            ],
            "image/png": "[encoded data removed]",
            "image/jpeg": "[encoded data removed]"
          },
          "metadata": {}
        }
      ]
    }
  ]
}